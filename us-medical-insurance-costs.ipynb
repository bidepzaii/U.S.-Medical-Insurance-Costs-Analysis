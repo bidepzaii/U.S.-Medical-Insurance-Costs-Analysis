{
 "cells": [
  {
   "cell_type": "markdown",
   "metadata": {},
   "source": [
    "# U.S. Medical Insurance Costs"
   ]
  },
  {
   "cell_type": "markdown",
   "metadata": {},
   "source": [
    "## Import the csv module"
   ]
  },
  {
   "cell_type": "code",
   "execution_count": 2,
   "metadata": {},
   "outputs": [],
   "source": [
    "import csv"
   ]
  },
  {
   "cell_type": "markdown",
   "metadata": {},
   "source": [
    "## Storing the data of the columns into Python variables\n",
    "\n",
    "Save the features of your dataset (the columns) from insurance.csv by storing them in variables that can be used for analysis. As you consider what types of variables to use and how many you plan to create, think ahead about the parameters you wish to investigate and how your organization will impact this analysis."
   ]
  },
  {
   "cell_type": "code",
   "execution_count": 3,
   "metadata": {},
   "outputs": [],
   "source": [
    "age_list = []\n",
    "sex_list = []\n",
    "bmi_list = []\n",
    "children_list = []\n",
    "smoker_list = []\n",
    "region_list = []\n",
    "charge_list = []\n",
    "\n",
    "with open('insurance.csv', newline='') as insurance_csv:\n",
    "    insurance_reader = csv.DictReader(insurance_csv)\n",
    "    for row in insurance_reader:\n",
    "        age_list.append(row['age'])\n",
    "        sex_list.append(row['sex'])\n",
    "        bmi_list.append(row['children'])\n",
    "        children_list.append(row['children'])\n",
    "        smoker_list.append(row['smoker'])\n",
    "        region_list.append(row['region'])\n",
    "        charge_list.append(row['charges'])\n",
    "\n"
   ]
  },
  {
   "cell_type": "markdown",
   "metadata": {},
   "source": [
    "## Build out analysis functions or class methods\n",
    "\n",
    "You now have everything you need to begin your analysis. You have organized the information from insurance.csv and have spent some time thinking about what it is you would like to investigate.\n",
    "\n",
    "Now is the time to build out how you perform these investigations. Use the Python fundamentals you have learned so far to accomplish these tasks. There are many different ways you can achieve these analyses. In our hint, we will provide some ideas for how you can use Python to analyze data.\n",
    "\n",
    "The two main options you have at your disposal are the following:\n",
    "\n",
    "Build functions that perform each analysis you desire.\n",
    "Build a class that contains methods for your analysis.\n",
    "Both are excellent options and can produce clean, modular code."
   ]
  },
  {
   "cell_type": "markdown",
   "metadata": {},
   "source": [
    "### 1. More male or female in the dataset?\n",
    "\n",
    "Count number of female and male in the dataset and compare them"
   ]
  },
  {
   "cell_type": "code",
   "execution_count": 15,
   "metadata": {
    "scrolled": true
   },
   "outputs": [
    {
     "name": "stdout",
     "output_type": "stream",
     "text": [
      "The number of male: 676, is larger than the number of female: 662, in this dataset\n"
     ]
    }
   ],
   "source": [
    "def sex_counter(sex_list):\n",
    "    female_count = 0\n",
    "    male_count = 0\n",
    "    for sex in sex_list:\n",
    "        if sex == 'male':\n",
    "            male_count += 1\n",
    "        else: \n",
    "            female_count += 1\n",
    "    if male_count > female_count:\n",
    "        return 'The number of male: {}, is larger than the number of female: {}, in this dataset'.format(male_count, female_count)\n",
    "    elif male_count < female_count:\n",
    "        return 'The number of female: {}, is larger than the number of male: {}, in this dataset'.format(female_count, male_count)\n",
    "    elif male_count == female_count:\n",
    "        return 'The number of male and female in this dataset is equal to each other and is {}'.format(male_count)\n",
    "\n",
    "sex_compare = sex_counter(sex_list)\n",
    "print(sex_compare)"
   ]
  },
  {
   "cell_type": "markdown",
   "metadata": {},
   "source": [
    "### 2. How many participants have children, and how many does not have children?\n",
    "\n",
    "Count number of participants that have at least one child and participants that have none"
   ]
  },
  {
   "cell_type": "code",
   "execution_count": 22,
   "metadata": {},
   "outputs": [
    {
     "name": "stdout",
     "output_type": "stream",
     "text": [
      "The number of participants that have children is 764, and the number of participants who does not have children is 574\n"
     ]
    }
   ],
   "source": [
    "def calculate_have_children(children_list):\n",
    "    have_count = 0\n",
    "    does_not_have_count = 0\n",
    "    for child in children_list:\n",
    "        if child == '0':\n",
    "            does_not_have_count += 1\n",
    "        else: \n",
    "            have_count += 1\n",
    "    return 'The number of participants that have children is {}, and the number of participants who does not have children is {}'.format(have_count, does_not_have_count)\n",
    "\n",
    "children_check = calculate_have_children(children_list)\n",
    "print(children_check)"
   ]
  },
  {
   "cell_type": "markdown",
   "metadata": {},
   "source": [
    "### 3. Average age of all participants in the dataset\n",
    "\n",
    "Calculate average age of all participants"
   ]
  },
  {
   "cell_type": "code",
   "execution_count": 31,
   "metadata": {},
   "outputs": [
    {
     "name": "stdout",
     "output_type": "stream",
     "text": [
      "The average age of all participants in this dataset is 39.21\n"
     ]
    }
   ],
   "source": [
    "def calculate_average_age(age_list):\n",
    "    total_age = 0\n",
    "    for age in age_list: \n",
    "        total_age += int(age)\n",
    "    average_age = total_age/len(age_list)\n",
    "    return 'The average age of all participants in this dataset is {:.2f}'.format(average_age)\n",
    "\n",
    "average_age = calculate_average_age(age_list)\n",
    "print(average_age)\n"
   ]
  },
  {
   "cell_type": "markdown",
   "metadata": {},
   "source": [
    "### 4. Average Insurance charge of all participants in the dataset"
   ]
  },
  {
   "cell_type": "code",
   "execution_count": 30,
   "metadata": {},
   "outputs": [
    {
     "name": "stdout",
     "output_type": "stream",
     "text": [
      "The average total charge for all participants in the dataset is 13270.42\n"
     ]
    }
   ],
   "source": [
    "def calculate_average_charge(charge_list):\n",
    "    total_charge = 0\n",
    "    for charge in charge_list:\n",
    "        total_charge += float(charge)\n",
    "    average_charge = total_charge/len(charge_list)\n",
    "    return 'The average total charge for all participants in the dataset is {:.2f}'.format(average_charge)\n",
    "\n",
    "average_charge = calculate_average_charge(charge_list)\n",
    "print(average_charge)"
   ]
  },
  {
   "cell_type": "markdown",
   "metadata": {},
   "source": [
    "### 5. Which region has the most participants?"
   ]
  },
  {
   "cell_type": "code",
   "execution_count": 66,
   "metadata": {},
   "outputs": [
    {
     "name": "stdout",
     "output_type": "stream",
     "text": [
      "North East: 324, North West: 325, South East: 364, South West: 325\n"
     ]
    }
   ],
   "source": [
    "def region_most(region_list):\n",
    "    northeast_count = 0\n",
    "    northwest_count = 0\n",
    "    southeast_count = 0\n",
    "    southwest_count = 0\n",
    "    for region in region_list:\n",
    "        if region == 'northeast':\n",
    "            northeast_count += 1\n",
    "        if region == 'northwest':\n",
    "            northwest_count += 1\n",
    "        if region == 'southeast':\n",
    "            southeast_count += 1\n",
    "        if region == 'southwest':\n",
    "            southwest_count += 1\n",
    "    return 'North East: {}, North West: {}, South East: {}, South West: {}'.format(northeast_count, northwest_count, southeast_count, southwest_count)\n",
    "\n",
    "print(region_most(region_list))\n"
   ]
  },
  {
   "cell_type": "markdown",
   "metadata": {},
   "source": [
    "### 6. Creating a dictionary to contain all information about patients"
   ]
  },
  {
   "cell_type": "code",
   "execution_count": 67,
   "metadata": {},
   "outputs": [],
   "source": [
    "#Create an order list from 1 to 1338 to store as keys in the dictionary\n",
    "order_list = []\n",
    "for i in range(1339):\n",
    "    if i == 0:\n",
    "        pass\n",
    "    else: \n",
    "        order_list.append(i)\n",
    "\n",
    "#Create function to create the dictionary\n",
    "def creating_dict(order_list, age_list, sex_list, bmi_list, children_list, smoker_list, region_list, charge_list):\n",
    "    patient_dict = {}\n",
    "    for i in range(len(age_list)):\n",
    "        patient_dict[order_list[i]] = {'Age': age_list[i], 'BMI': bmi_list[i], 'Children': children_list[i], \"Smoker\": smoker_list[i], 'Region': region_list[i], 'Charge': charge_list[i]}\n",
    "    return patient_dict\n",
    "\n",
    "patient_dict = creating_dict(order_list, age_list, sex_list, bmi_list, children_list, smoker_list, region_list, charge_list)"
   ]
  },
  {
   "cell_type": "markdown",
   "metadata": {},
   "source": [
    "### 7. Different costs between smokers and non_smokers\n",
    "\n",
    "Calculate average cost of smoker and non_smokers"
   ]
  },
  {
   "cell_type": "code",
   "execution_count": 62,
   "metadata": {
    "scrolled": false
   },
   "outputs": [
    {
     "name": "stdout",
     "output_type": "stream",
     "text": [
      "The average insurance cost for smoker is 32050.23, and the average cost for non-smoker is 8434.27\n"
     ]
    }
   ],
   "source": [
    "def cal_cost_smoker(patient_dict):\n",
    "    total_cost_smoker = 0\n",
    "    total_cost_nonsmoker = 0\n",
    "    count_smoker = 0\n",
    "    count_nonsmoker = 0\n",
    "    for i in patient_dict:\n",
    "        if patient_dict[i]['Smoker'] == 'yes':\n",
    "            total_cost_smoker += float(patient_dict[i]['Charge'])\n",
    "            count_smoker += 1\n",
    "        if patient_dict[i]['Smoker'] == 'no':\n",
    "            total_cost_nonsmoker += float(patient_dict[i]['Charge'])\n",
    "            count_nonsmoker += 1\n",
    "    average_cost_smoker = total_cost_smoker/count_smoker\n",
    "    average_cost_nonsmoker = total_cost_nonsmoker/count_nonsmoker\n",
    "    return 'The average insurance cost for smoker is {:.2f}, and the average cost for non-smoker is {:.2f}'.format(average_cost_smoker, average_cost_nonsmoker)\n",
    "\n",
    "print(cal_cost_smoker(patient_dict))\n",
    "        "
   ]
  },
  {
   "cell_type": "markdown",
   "metadata": {},
   "source": [
    "### 8. Average age for people who have at least 1 child and people who don't"
   ]
  },
  {
   "cell_type": "code",
   "execution_count": 65,
   "metadata": {
    "scrolled": true
   },
   "outputs": [
    {
     "name": "stdout",
     "output_type": "stream",
     "text": [
      "The average age for people who have no child is 38.44, and for people who have children is 39.78\n"
     ]
    }
   ],
   "source": [
    "def average_age_for_have_children(patient_dict):\n",
    "    total_age_nochild = 0 \n",
    "    total_age_havechild = 0\n",
    "    count_havechild = 0\n",
    "    count_nochild = 0\n",
    "    for i in patient_dict: \n",
    "        if patient_dict[i]['Children'] == '0':\n",
    "            total_age_nochild += int(patient_dict[i]['Age'])\n",
    "            count_nochild += 1\n",
    "        else:\n",
    "            total_age_havechild += int(patient_dict[i]['Age'])\n",
    "            count_havechild += 1\n",
    "    average_age_nochild = total_age_nochild/count_nochild\n",
    "    average_age_havechild = total_age_havechild/count_havechild\n",
    "    return 'The average age for people who have no child is {:.2f}, and for people who have children is {:.2f}'.format(average_age_nochild, average_age_havechild)\n",
    "\n",
    "print(average_age_for_have_children(patient_dict))"
   ]
  },
  {
   "cell_type": "markdown",
   "metadata": {},
   "source": [
    "### 9. Calculate max insurance cost among all patients"
   ]
  },
  {
   "cell_type": "code",
   "execution_count": 78,
   "metadata": {},
   "outputs": [
    {
     "name": "stdout",
     "output_type": "stream",
     "text": [
      "The 544 patient has the most expensive insurance cost: 63770.42801\n"
     ]
    }
   ],
   "source": [
    "def calculate_max_cost(patient_dict):\n",
    "    max_cost = 0.0\n",
    "    order = 0\n",
    "    for i in patient_dict:\n",
    "        if float(patient_dict[i]['Charge']) > float(max_cost):\n",
    "            max_cost = patient_dict[i]['Charge']\n",
    "            order = i\n",
    "    return 'The {} patient has the most expensive insurance cost: {}'.format(order, max_cost)\n",
    "\n",
    "print(calculate_max_cost(patient_dict))"
   ]
  },
  {
   "cell_type": "markdown",
   "metadata": {},
   "source": [
    "### 10. Calculate average costs between regions"
   ]
  },
  {
   "cell_type": "code",
   "execution_count": 86,
   "metadata": {},
   "outputs": [
    {
     "name": "stdout",
     "output_type": "stream",
     "text": [
      "The average cost of North East is 13406.38. The average cost of North West is 12417.58. The average cost of South East is 14735.41. The average cost of South West is 12346.94. The max cost of region is 14735.41\n"
     ]
    }
   ],
   "source": [
    "def cal_region_cost(patient_dict):\n",
    "    ne_total_cost = 0\n",
    "    nw_total_cost = 0\n",
    "    se_total_cost = 0\n",
    "    sw_total_cost = 0\n",
    "    ne_count = 0\n",
    "    nw_count = 0\n",
    "    se_count = 0\n",
    "    sw_count = 0\n",
    "    \n",
    "    for i in patient_dict:\n",
    "        if patient_dict[i]['Region'] == 'northeast':\n",
    "            ne_total_cost += float(patient_dict[i]['Charge'])\n",
    "            ne_count += 1\n",
    "        if patient_dict[i]['Region'] == 'northwest':\n",
    "            nw_total_cost += float(patient_dict[i]['Charge'])\n",
    "            nw_count += 1\n",
    "        if patient_dict[i]['Region'] == 'southeast':\n",
    "            se_total_cost += float(patient_dict[i]['Charge'])\n",
    "            se_count += 1\n",
    "        if patient_dict[i]['Region'] == 'southwest':\n",
    "            sw_total_cost += float(patient_dict[i]['Charge'])\n",
    "            sw_count += 1\n",
    "    \n",
    "    ne_average_cost = ne_total_cost/ne_count\n",
    "    nw_average_cost = nw_total_cost/nw_count\n",
    "    se_average_cost = se_total_cost/se_count\n",
    "    sw_average_cost = sw_total_cost/sw_count\n",
    "    max_cost = max(ne_average_cost, nw_average_cost, se_average_cost, sw_average_cost)\n",
    "    \n",
    "    return 'The average cost of North East is {:.2f}. The average cost of North West is {:.2f}. The average cost of South East is {:.2f}. The average cost of South West is {:.2f}. The max cost of region is {:.2f}'.format(ne_average_cost, nw_average_cost, se_average_cost, sw_average_cost, max_cost)\n",
    "\n",
    "print(cal_region_cost(patient_dict))"
   ]
  },
  {
   "cell_type": "code",
   "execution_count": null,
   "metadata": {},
   "outputs": [],
   "source": []
  }
 ],
 "metadata": {
  "kernelspec": {
   "display_name": "Python 3 (ipykernel)",
   "language": "python",
   "name": "python3"
  },
  "language_info": {
   "codemirror_mode": {
    "name": "ipython",
    "version": 3
   },
   "file_extension": ".py",
   "mimetype": "text/x-python",
   "name": "python",
   "nbconvert_exporter": "python",
   "pygments_lexer": "ipython3",
   "version": "3.11.5"
  }
 },
 "nbformat": 4,
 "nbformat_minor": 4
}
